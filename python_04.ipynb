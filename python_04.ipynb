{
  "nbformat": 4,
  "nbformat_minor": 0,
  "metadata": {
    "colab": {
      "name": "python_04.ipynb",
      "provenance": [],
      "collapsed_sections": [],
      "authorship_tag": "ABX9TyPxpz3NRNLalgIafvruxiy+",
      "include_colab_link": true
    },
    "kernelspec": {
      "name": "python3",
      "display_name": "Python 3"
    },
    "language_info": {
      "name": "python"
    }
  },
  "cells": [
    {
      "cell_type": "markdown",
      "metadata": {
        "id": "view-in-github",
        "colab_type": "text"
      },
      "source": [
        "<a href=\"https://colab.research.google.com/github/00kang/Likelion_AISchool/blob/main/python_04.ipynb\" target=\"_parent\"><img src=\"https://colab.research.google.com/assets/colab-badge.svg\" alt=\"Open In Colab\"/></a>"
      ]
    },
    {
      "cell_type": "markdown",
      "metadata": {
        "id": "REwnbrA3eVrP"
      },
      "source": [
        "###1. 딕셔너리\n",
        "*   서로 대응 관계를 가진 데이터로 이루어진 자료형\n",
        "* 대응 관계는 키(key)와 값(value)로 표현\n",
        "* 키로 인덱싱하여 접근 가능\n",
        "\n",
        "\n",
        "    변수명 = {키1:값1, 키2:값2, ...}"
      ]
    },
    {
      "cell_type": "markdown",
      "metadata": {
        "id": "weUgpk8se8UB"
      },
      "source": [
        "###2. JSON (JavaScript Object Notation)\n",
        "*   자바 스크립트의 프로그래밍 언어 부분에 기반\n",
        "*   데이터를 효율적으로 저장하고 교환하는 데 사용하는 텍스트 데이터\n",
        "*   장점 : 사람이 읽고 쓰기 쉬움<br>컴퓨터가 파싱하고 생성하기에도 쉬움\n",
        "\n",
        "    \n",
        "    이름과 값의 집합\n",
        "    정렬된 값의 리스트"
      ]
    },
    {
      "cell_type": "code",
      "metadata": {
        "id": "Hsj4tahwf_l5"
      },
      "source": [
        "{'1.FirstName' : 'JaeHwa', #이름, 값\n",
        " '2.LastName' : 'Lee',\n",
        " '3.Age' : 20,\n",
        " '4.Youtube_ch' : 'AIRIM',\n",
        " '5.Courses' : [{'Classes' : ['Probability', 'Generalized Linear Model', 'Categorical Data Analysis'], 'Major' : 'ML'}, \n",
        "                {'Classes' : ['Data Structure', 'Programming', 'Algorithms'], 'Major' : 'Deep Learning'}]}\n",
        "                #정렬된 값의 리스트 형식 구조"
      ],
      "execution_count": null,
      "outputs": []
    },
    {
      "cell_type": "markdown",
      "metadata": {
        "id": "rgNuz3Bwf3Jy"
      },
      "source": [
        "*   파일 변환 <br>Python의 list, tuple -> Json의 array   \n",
        "Json의 array -> Python의 list\n",
        "\n"
      ]
    },
    {
      "cell_type": "markdown",
      "metadata": {
        "id": "-LNzL4q7h3pL"
      },
      "source": [
        "###3. Python에서 Json 다루기\n",
        "*   내장 모듈로 Json 불러오기\n",
        "*   Json형식의 데이터를 열어 Python 객체로 읽어오기\n",
        "*   Python 객체를 Json 문자열로 변환하기"
      ]
    },
    {
      "cell_type": "code",
      "metadata": {
        "id": "2QBaZLZMhhFQ"
      },
      "source": [
        "#내장 모듈 Json 불러오기\n",
        "import json\n",
        "\n",
        "# with open으로 파일을 불러옴과 동시에 as로 별칭 정해주기\n",
        "with open ('student_file.json') as json_file:\n",
        "    json_data = json.load(json_file) #불러온 데이터를 load로 통과시켜 python 객체에 저장\n",
        "\n",
        "json_data"
      ],
      "execution_count": null,
      "outputs": []
    },
    {
      "cell_type": "code",
      "metadata": {
        "id": "fexeiu37gwAg"
      },
      "source": [
        "student_data = {\n",
        "    '1.FirstName' : 'JaeHwa',\n",
        "    '2.LastName' : 'Lee',\n",
        "    '3.Age' : 20,\n",
        "    '4.Youtube_ch' : 'AIRIM',\n",
        "    '5.Courses' : [{'Classes' : ['Probability', 'Generalized Linear Model', 'Categorical Data Analysis'], 'Major' : 'ML'}, \n",
        "                   {'Classes' : ['Data Structure', 'Programming', 'Algorithms'], 'Major' : 'Deep Learning'}]}\n",
        "                "
      ],
      "execution_count": 5,
      "outputs": []
    },
    {
      "cell_type": "code",
      "metadata": {
        "colab": {
          "base_uri": "https://localhost:8080/"
        },
        "id": "NqsYZL5IjMpz",
        "outputId": "34c4a53f-26c8-4ade-f080-e31a528f9520"
      },
      "source": [
        "st_json = json.dumps(student_data) #Python 객체를 Json 문자열로 바꾸려면 dumps 사용\n",
        "print(st_json) #가독성 낮은 결과"
      ],
      "execution_count": 10,
      "outputs": [
        {
          "output_type": "stream",
          "text": [
            "{\"1.FirstName\": \"JaeHwa\", \"2.LastName\": \"Lee\", \"3.Age\": 20, \"4.Youtube_ch\": \"AIRIM\", \"5.Courses\": [{\"Classes\": [\"Probability\", \"Generalized Linear Model\", \"Categorical Data Analysis\"], \"Major\": \"ML\"}, {\"Classes\": [\"Data Structure\", \"Programming\", \"Algorithms\"], \"Major\": \"Deep Learning\"}]}\n"
          ],
          "name": "stdout"
        }
      ]
    },
    {
      "cell_type": "code",
      "metadata": {
        "colab": {
          "base_uri": "https://localhost:8080/"
        },
        "id": "f7fH_sbd2mXr",
        "outputId": "05510166-bc9c-45bc-951d-dff013ad286a"
      },
      "source": [
        "st_json2 = json.dumps(student_data, indent=4) #indent로 들여쓰기 설정\n",
        "print(st_json2)"
      ],
      "execution_count": 9,
      "outputs": [
        {
          "output_type": "stream",
          "text": [
            "{\n",
            "    \"1.FirstName\": \"JaeHwa\",\n",
            "    \"2.LastName\": \"Lee\",\n",
            "    \"3.Age\": 20,\n",
            "    \"4.Youtube_ch\": \"AIRIM\",\n",
            "    \"5.Courses\": [\n",
            "        {\n",
            "            \"Classes\": [\n",
            "                \"Probability\",\n",
            "                \"Generalized Linear Model\",\n",
            "                \"Categorical Data Analysis\"\n",
            "            ],\n",
            "            \"Major\": \"ML\"\n",
            "        },\n",
            "        {\n",
            "            \"Classes\": [\n",
            "                \"Data Structure\",\n",
            "                \"Programming\",\n",
            "                \"Algorithms\"\n",
            "            ],\n",
            "            \"Major\": \"Deep Learning\"\n",
            "        }\n",
            "    ]\n",
            "}\n"
          ],
          "name": "stdout"
        }
      ]
    },
    {
      "cell_type": "code",
      "metadata": {
        "colab": {
          "base_uri": "https://localhost:8080/"
        },
        "id": "yNLs-rd23Dwn",
        "outputId": "378b647f-2b2d-476a-ea0b-e90148d58afa"
      },
      "source": [
        "st_json3 = json.dumps(student_data, indent=4, sort_keys=True) #key정렬\n",
        "print(st_json3)"
      ],
      "execution_count": 13,
      "outputs": [
        {
          "output_type": "stream",
          "text": [
            "{\n",
            "    \"1.FirstName\": \"JaeHwa\",\n",
            "    \"2.LastName\": \"Lee\",\n",
            "    \"3.Age\": 20,\n",
            "    \"4.Youtube_ch\": \"AIRIM\",\n",
            "    \"5.Courses\": [\n",
            "        {\n",
            "            \"Classes\": [\n",
            "                \"Probability\",\n",
            "                \"Generalized Linear Model\",\n",
            "                \"Categorical Data Analysis\"\n",
            "            ],\n",
            "            \"Major\": \"ML\"\n",
            "        },\n",
            "        {\n",
            "            \"Classes\": [\n",
            "                \"Data Structure\",\n",
            "                \"Programming\",\n",
            "                \"Algorithms\"\n",
            "            ],\n",
            "            \"Major\": \"Deep Learning\"\n",
            "        }\n",
            "    ]\n",
            "}\n"
          ],
          "name": "stdout"
        }
      ]
    },
    {
      "cell_type": "markdown",
      "metadata": {
        "id": "HhsZ1fKS3g9a"
      },
      "source": [
        "###4. OPEN API (Application Programming Interface)\n",
        "*   인터넷 이용자가 웹 검색 결과 및 사용자 인터페이스 등을 수동적으로 제공받는데 그치지 않고 직접 응용 프로그램과 서비스를 개발할 수 있도록 공개된 API<br>\n",
        "= 인터넷 이용자가 웹 검색 결과 즉 데이터를 우리가 지정한 조건에 맞게끔 가져올 수 있는 도구"
      ]
    },
    {
      "cell_type": "markdown",
      "metadata": {
        "id": "ibpLnt-v6dYR"
      },
      "source": [
        "* OPEN API라는 것을 활용하려면 해당 업체에서 제공해 주는 '키'가 필요\n",
        "* OPEN API 제공 페이지에서 가이드 라인 제시\n",
        "\n",
        "\n",
        "* 데이터\n",
        "0. 필요한 데이터 확인\n",
        "1. 데이터 공급형태 확인\n",
        "2. 데이터 정제\n",
        "\n",
        "* URL\n",
        "0. OPEN API 가이드라인 제공 페이지의 응답 예시\n",
        "1. 발급받은 키와 날짜로 추정되는 숫자를 가져다 나만의 key와 원하는 날짜로 설정\n",
        "2. request.get()함수로 url 저장"
      ]
    },
    {
      "cell_type": "code",
      "metadata": {
        "id": "YGmhXJ4i5R_p"
      },
      "source": [
        "# OPEN API를 사용하여 일별 영화 순위 정보 가져오기\n",
        "#key = 50ee936c7380f8675b6bb4de9a74212e\n",
        "\n",
        "import requests\n",
        "\n",
        "url = \"http://kobis.or.kr/kobisopenapi/webservice/rest/boxoffice/searchDailyBoxOfficeList.json?key=50ee936c7380f8675b6bb4de9a74212e&targetDt=20200501\"\n",
        "res = requests.get(url) #url에 들어있는 정보 요청\n",
        "text = res.text #정보를 우리가 이해할 수 있게 텍스트로 변환\n",
        "MD_json = json.loads(text) #Json형식으로 바꿈"
      ],
      "execution_count": 14,
      "outputs": []
    },
    {
      "cell_type": "code",
      "metadata": {
        "colab": {
          "base_uri": "https://localhost:8080/"
        },
        "id": "mH4wKxF38YHz",
        "outputId": "b18be585-4bc1-4406-900f-9fa00619dca5"
      },
      "source": [
        "print(json.dumps(MD_json, indent=4, sort_keys=True))"
      ],
      "execution_count": 15,
      "outputs": [
        {
          "output_type": "stream",
          "text": [
            "{\n",
            "    \"boxOfficeResult\": {\n",
            "        \"boxofficeType\": \"\\uc77c\\ubcc4 \\ubc15\\uc2a4\\uc624\\ud53c\\uc2a4\",\n",
            "        \"dailyBoxOfficeList\": [\n",
            "            {\n",
            "                \"audiAcc\": \"35054\",\n",
            "                \"audiChange\": \"-42.5\",\n",
            "                \"audiCnt\": \"8822\",\n",
            "                \"audiInten\": \"-6530\",\n",
            "                \"movieCd\": \"20205402\",\n",
            "                \"movieNm\": \"\\ud2b8\\ub864: \\uc6d4\\ub4dc \\ud22c\\uc5b4\",\n",
            "                \"openDt\": \"2020-04-29\",\n",
            "                \"rank\": \"1\",\n",
            "                \"rankInten\": \"0\",\n",
            "                \"rankOldAndNew\": \"OLD\",\n",
            "                \"rnum\": \"1\",\n",
            "                \"salesAcc\": \"260552580\",\n",
            "                \"salesAmt\": \"70128520\",\n",
            "                \"salesChange\": \"-41.7\",\n",
            "                \"salesInten\": \"-50148640\",\n",
            "                \"salesShare\": \"12.2\",\n",
            "                \"scrnCnt\": \"281\",\n",
            "                \"showCnt\": \"791\"\n",
            "            },\n",
            "            {\n",
            "                \"audiAcc\": \"26844\",\n",
            "                \"audiChange\": \"-35.7\",\n",
            "                \"audiCnt\": \"7279\",\n",
            "                \"audiInten\": \"-4038\",\n",
            "                \"movieCd\": \"20197397\",\n",
            "                \"movieNm\": \"\\ub098\\uc758 \\uccad\\ucd98\\uc740 \\ub108\\uc758 \\uac83\",\n",
            "                \"openDt\": \"2020-04-29\",\n",
            "                \"rank\": \"2\",\n",
            "                \"rankInten\": \"0\",\n",
            "                \"rankOldAndNew\": \"OLD\",\n",
            "                \"rnum\": \"2\",\n",
            "                \"salesAcc\": \"214754760\",\n",
            "                \"salesAmt\": \"64189060\",\n",
            "                \"salesChange\": \"-34\",\n",
            "                \"salesInten\": \"-33132640\",\n",
            "                \"salesShare\": \"11.2\",\n",
            "                \"scrnCnt\": \"533\",\n",
            "                \"showCnt\": \"933\"\n",
            "            },\n",
            "            {\n",
            "                \"audiAcc\": \"10601\",\n",
            "                \"audiChange\": \"333.9\",\n",
            "                \"audiCnt\": \"6391\",\n",
            "                \"audiInten\": \"4918\",\n",
            "                \"movieCd\": \"20173226\",\n",
            "                \"movieNm\": \"\\ud328\\uc655\\ubcc4\\ud76c \\ub514 \\uc624\\ub9ac\\uc9c0\\ub110\",\n",
            "                \"openDt\": \"2017-03-30\",\n",
            "                \"rank\": \"3\",\n",
            "                \"rankInten\": \"11\",\n",
            "                \"rankOldAndNew\": \"OLD\",\n",
            "                \"rnum\": \"3\",\n",
            "                \"salesAcc\": \"97138740\",\n",
            "                \"salesAmt\": \"59316340\",\n",
            "                \"salesChange\": \"342.3\",\n",
            "                \"salesInten\": \"45904840\",\n",
            "                \"salesShare\": \"10.4\",\n",
            "                \"scrnCnt\": \"320\",\n",
            "                \"showCnt\": \"397\"\n",
            "            },\n",
            "            {\n",
            "                \"audiAcc\": \"23082\",\n",
            "                \"audiChange\": \"-37\",\n",
            "                \"audiCnt\": \"6150\",\n",
            "                \"audiInten\": \"-3615\",\n",
            "                \"movieCd\": \"20181685\",\n",
            "                \"movieNm\": \"\\ud638\\ud154 \\ub808\\uc774\\ud06c\",\n",
            "                \"openDt\": \"2020-04-29\",\n",
            "                \"rank\": \"4\",\n",
            "                \"rankInten\": \"0\",\n",
            "                \"rankOldAndNew\": \"OLD\",\n",
            "                \"rnum\": \"4\",\n",
            "                \"salesAcc\": \"184976280\",\n",
            "                \"salesAmt\": \"54055380\",\n",
            "                \"salesChange\": \"-36.1\",\n",
            "                \"salesInten\": \"-30486120\",\n",
            "                \"salesShare\": \"9.4\",\n",
            "                \"scrnCnt\": \"444\",\n",
            "                \"showCnt\": \"776\"\n",
            "            },\n",
            "            {\n",
            "                \"audiAcc\": \"28309\",\n",
            "                \"audiChange\": \"-43.8\",\n",
            "                \"audiCnt\": \"5880\",\n",
            "                \"audiInten\": \"-4578\",\n",
            "                \"movieCd\": \"20207722\",\n",
            "                \"movieNm\": \"\\uc800 \\uc0b0 \\ub108\\uba38\",\n",
            "                \"openDt\": \"2020-04-30\",\n",
            "                \"rank\": \"5\",\n",
            "                \"rankInten\": \"-2\",\n",
            "                \"rankOldAndNew\": \"OLD\",\n",
            "                \"rnum\": \"5\",\n",
            "                \"salesAcc\": \"188576760\",\n",
            "                \"salesAmt\": \"48828300\",\n",
            "                \"salesChange\": \"-42.8\",\n",
            "                \"salesInten\": \"-36587160\",\n",
            "                \"salesShare\": \"8.5\",\n",
            "                \"scrnCnt\": \"437\",\n",
            "                \"showCnt\": \"782\"\n",
            "            },\n",
            "            {\n",
            "                \"audiAcc\": \"13956005\",\n",
            "                \"audiChange\": \"-36.2\",\n",
            "                \"audiCnt\": \"5624\",\n",
            "                \"audiInten\": \"-3185\",\n",
            "                \"movieCd\": \"20184889\",\n",
            "                \"movieNm\": \"\\uc5b4\\ubca4\\uc838\\uc2a4: \\uc5d4\\ub4dc\\uac8c\\uc784\",\n",
            "                \"openDt\": \"2019-04-24\",\n",
            "                \"rank\": \"6\",\n",
            "                \"rankInten\": \"-1\",\n",
            "                \"rankOldAndNew\": \"OLD\",\n",
            "                \"rnum\": \"6\",\n",
            "                \"salesAcc\": \"122338260260\",\n",
            "                \"salesAmt\": \"40896600\",\n",
            "                \"salesChange\": \"-34.9\",\n",
            "                \"salesInten\": \"-21883500\",\n",
            "                \"salesShare\": \"7.1\",\n",
            "                \"scrnCnt\": \"479\",\n",
            "                \"showCnt\": \"647\"\n",
            "            },\n",
            "            {\n",
            "                \"audiAcc\": \"18761\",\n",
            "                \"audiChange\": \"-36.6\",\n",
            "                \"audiCnt\": \"4745\",\n",
            "                \"audiInten\": \"-2736\",\n",
            "                \"movieCd\": \"20206441\",\n",
            "                \"movieNm\": \"\\ub9c8\\uc774 \\uc2a4\\ud30c\\uc774\",\n",
            "                \"openDt\": \"2020-04-29\",\n",
            "                \"rank\": \"7\",\n",
            "                \"rankInten\": \"-1\",\n",
            "                \"rankOldAndNew\": \"OLD\",\n",
            "                \"rnum\": \"7\",\n",
            "                \"salesAcc\": \"145620900\",\n",
            "                \"salesAmt\": \"42848900\",\n",
            "                \"salesChange\": \"-34.3\",\n",
            "                \"salesInten\": \"-22399500\",\n",
            "                \"salesShare\": \"7.5\",\n",
            "                \"scrnCnt\": \"232\",\n",
            "                \"showCnt\": \"584\"\n",
            "            },\n",
            "            {\n",
            "                \"audiAcc\": \"829721\",\n",
            "                \"audiChange\": \"-37.7\",\n",
            "                \"audiCnt\": \"4482\",\n",
            "                \"audiInten\": \"-2710\",\n",
            "                \"movieCd\": \"20192399\",\n",
            "                \"movieNm\": \"1917\",\n",
            "                \"openDt\": \"2020-02-19\",\n",
            "                \"rank\": \"8\",\n",
            "                \"rankInten\": \"-1\",\n",
            "                \"rankOldAndNew\": \"OLD\",\n",
            "                \"rnum\": \"8\",\n",
            "                \"salesAcc\": \"7508746440\",\n",
            "                \"salesAmt\": \"38905780\",\n",
            "                \"salesChange\": \"-35.8\",\n",
            "                \"salesInten\": \"-21670100\",\n",
            "                \"salesShare\": \"6.8\",\n",
            "                \"scrnCnt\": \"306\",\n",
            "                \"showCnt\": \"440\"\n",
            "            },\n",
            "            {\n",
            "                \"audiAcc\": \"3706331\",\n",
            "                \"audiChange\": \"-36.1\",\n",
            "                \"audiCnt\": \"3278\",\n",
            "                \"audiInten\": \"-1851\",\n",
            "                \"movieCd\": \"20167904\",\n",
            "                \"movieNm\": \"\\ub77c\\ub77c\\ub79c\\ub4dc\",\n",
            "                \"openDt\": \"2016-12-07\",\n",
            "                \"rank\": \"9\",\n",
            "                \"rankInten\": \"-1\",\n",
            "                \"rankOldAndNew\": \"OLD\",\n",
            "                \"rnum\": \"9\",\n",
            "                \"salesAcc\": \"30673162868\",\n",
            "                \"salesAmt\": \"17286460\",\n",
            "                \"salesChange\": \"-35.4\",\n",
            "                \"salesInten\": \"-9492720\",\n",
            "                \"salesShare\": \"3.0\",\n",
            "                \"scrnCnt\": \"289\",\n",
            "                \"showCnt\": \"437\"\n",
            "            },\n",
            "            {\n",
            "                \"audiAcc\": \"11224539\",\n",
            "                \"audiChange\": \"-41.9\",\n",
            "                \"audiCnt\": \"2648\",\n",
            "                \"audiInten\": \"-1911\",\n",
            "                \"movieCd\": \"20177478\",\n",
            "                \"movieNm\": \"\\uc5b4\\ubca4\\uc838\\uc2a4: \\uc778\\ud53c\\ub2c8\\ud2f0 \\uc6cc\",\n",
            "                \"openDt\": \"2018-04-25\",\n",
            "                \"rank\": \"10\",\n",
            "                \"rankInten\": \"0\",\n",
            "                \"rankOldAndNew\": \"OLD\",\n",
            "                \"rnum\": \"10\",\n",
            "                \"salesAcc\": \"100017693049\",\n",
            "                \"salesAmt\": \"20258880\",\n",
            "                \"salesChange\": \"-41.1\",\n",
            "                \"salesInten\": \"-14121440\",\n",
            "                \"salesShare\": \"3.5\",\n",
            "                \"scrnCnt\": \"364\",\n",
            "                \"showCnt\": \"459\"\n",
            "            }\n",
            "        ],\n",
            "        \"showRange\": \"20200501~20200501\"\n",
            "    }\n",
            "}\n"
          ],
          "name": "stdout"
        }
      ]
    },
    {
      "cell_type": "code",
      "metadata": {
        "colab": {
          "base_uri": "https://localhost:8080/"
        },
        "id": "V5hxW-cg8e4U",
        "outputId": "cd686098-c0a2-4506-f77e-edc82c9ae64e"
      },
      "source": [
        "print(MD_json.keys())\n",
        "\n",
        "print(MD_json['boxOfficeResult'].keys())"
      ],
      "execution_count": 16,
      "outputs": [
        {
          "output_type": "stream",
          "text": [
            "dict_keys(['boxOfficeResult'])\n",
            "dict_keys(['boxofficeType', 'showRange', 'dailyBoxOfficeList'])\n"
          ],
          "name": "stdout"
        }
      ]
    },
    {
      "cell_type": "code",
      "metadata": {
        "colab": {
          "base_uri": "https://localhost:8080/"
        },
        "id": "IDPilkwv81Ap",
        "outputId": "ce999b31-9899-4fad-dc68-c3eacf2ada2a"
      },
      "source": [
        "for i in MD_json['boxOfficeResult']['dailyBoxOfficeList'] :\n",
        "    print(i['rank'], i['rankOldAndNew'], i['movieCd'], i['movieNm'], i['salesAmt']) #원하는 응답필드"
      ],
      "execution_count": 17,
      "outputs": [
        {
          "output_type": "stream",
          "text": [
            "1 OLD 20205402 트롤: 월드 투어 70128520\n",
            "2 OLD 20197397 나의 청춘은 너의 것 64189060\n",
            "3 OLD 20173226 패왕별희 디 오리지널 59316340\n",
            "4 OLD 20181685 호텔 레이크 54055380\n",
            "5 OLD 20207722 저 산 너머 48828300\n",
            "6 OLD 20184889 어벤져스: 엔드게임 40896600\n",
            "7 OLD 20206441 마이 스파이 42848900\n",
            "8 OLD 20192399 1917 38905780\n",
            "9 OLD 20167904 라라랜드 17286460\n",
            "10 OLD 20177478 어벤져스: 인피니티 워 20258880\n"
          ],
          "name": "stdout"
        }
      ]
    },
    {
      "cell_type": "code",
      "metadata": {
        "id": "WPn-_H2c9OII"
      },
      "source": [
        "import pandas as pd\n",
        "movie = []\n",
        "for i in MD_json['boxOfficeResult']['dailyBoxOfficeList'] :\n",
        "    movie.append([i['rank'], i['rankOldAndNew'], i['movieCd'], i['movieNm'], i['salesAmt']])\n",
        "data = pd.DataFrame(movie)"
      ],
      "execution_count": 19,
      "outputs": []
    },
    {
      "cell_type": "code",
      "metadata": {
        "colab": {
          "base_uri": "https://localhost:8080/",
          "height": 343
        },
        "id": "rkCu7pEoBaGK",
        "outputId": "d05d817d-569f-496c-e2a5-6548be9cccc8"
      },
      "source": [
        "data.head(10)"
      ],
      "execution_count": 22,
      "outputs": [
        {
          "output_type": "execute_result",
          "data": {
            "text/html": [
              "<div>\n",
              "<style scoped>\n",
              "    .dataframe tbody tr th:only-of-type {\n",
              "        vertical-align: middle;\n",
              "    }\n",
              "\n",
              "    .dataframe tbody tr th {\n",
              "        vertical-align: top;\n",
              "    }\n",
              "\n",
              "    .dataframe thead th {\n",
              "        text-align: right;\n",
              "    }\n",
              "</style>\n",
              "<table border=\"1\" class=\"dataframe\">\n",
              "  <thead>\n",
              "    <tr style=\"text-align: right;\">\n",
              "      <th></th>\n",
              "      <th>0</th>\n",
              "      <th>1</th>\n",
              "      <th>2</th>\n",
              "      <th>3</th>\n",
              "      <th>4</th>\n",
              "    </tr>\n",
              "  </thead>\n",
              "  <tbody>\n",
              "    <tr>\n",
              "      <th>0</th>\n",
              "      <td>1</td>\n",
              "      <td>OLD</td>\n",
              "      <td>20205402</td>\n",
              "      <td>트롤: 월드 투어</td>\n",
              "      <td>70128520</td>\n",
              "    </tr>\n",
              "    <tr>\n",
              "      <th>1</th>\n",
              "      <td>2</td>\n",
              "      <td>OLD</td>\n",
              "      <td>20197397</td>\n",
              "      <td>나의 청춘은 너의 것</td>\n",
              "      <td>64189060</td>\n",
              "    </tr>\n",
              "    <tr>\n",
              "      <th>2</th>\n",
              "      <td>3</td>\n",
              "      <td>OLD</td>\n",
              "      <td>20173226</td>\n",
              "      <td>패왕별희 디 오리지널</td>\n",
              "      <td>59316340</td>\n",
              "    </tr>\n",
              "    <tr>\n",
              "      <th>3</th>\n",
              "      <td>4</td>\n",
              "      <td>OLD</td>\n",
              "      <td>20181685</td>\n",
              "      <td>호텔 레이크</td>\n",
              "      <td>54055380</td>\n",
              "    </tr>\n",
              "    <tr>\n",
              "      <th>4</th>\n",
              "      <td>5</td>\n",
              "      <td>OLD</td>\n",
              "      <td>20207722</td>\n",
              "      <td>저 산 너머</td>\n",
              "      <td>48828300</td>\n",
              "    </tr>\n",
              "    <tr>\n",
              "      <th>5</th>\n",
              "      <td>6</td>\n",
              "      <td>OLD</td>\n",
              "      <td>20184889</td>\n",
              "      <td>어벤져스: 엔드게임</td>\n",
              "      <td>40896600</td>\n",
              "    </tr>\n",
              "    <tr>\n",
              "      <th>6</th>\n",
              "      <td>7</td>\n",
              "      <td>OLD</td>\n",
              "      <td>20206441</td>\n",
              "      <td>마이 스파이</td>\n",
              "      <td>42848900</td>\n",
              "    </tr>\n",
              "    <tr>\n",
              "      <th>7</th>\n",
              "      <td>8</td>\n",
              "      <td>OLD</td>\n",
              "      <td>20192399</td>\n",
              "      <td>1917</td>\n",
              "      <td>38905780</td>\n",
              "    </tr>\n",
              "    <tr>\n",
              "      <th>8</th>\n",
              "      <td>9</td>\n",
              "      <td>OLD</td>\n",
              "      <td>20167904</td>\n",
              "      <td>라라랜드</td>\n",
              "      <td>17286460</td>\n",
              "    </tr>\n",
              "    <tr>\n",
              "      <th>9</th>\n",
              "      <td>10</td>\n",
              "      <td>OLD</td>\n",
              "      <td>20177478</td>\n",
              "      <td>어벤져스: 인피니티 워</td>\n",
              "      <td>20258880</td>\n",
              "    </tr>\n",
              "  </tbody>\n",
              "</table>\n",
              "</div>"
            ],
            "text/plain": [
              "    0    1         2             3         4\n",
              "0   1  OLD  20205402     트롤: 월드 투어  70128520\n",
              "1   2  OLD  20197397   나의 청춘은 너의 것  64189060\n",
              "2   3  OLD  20173226   패왕별희 디 오리지널  59316340\n",
              "3   4  OLD  20181685        호텔 레이크  54055380\n",
              "4   5  OLD  20207722        저 산 너머  48828300\n",
              "5   6  OLD  20184889    어벤져스: 엔드게임  40896600\n",
              "6   7  OLD  20206441        마이 스파이  42848900\n",
              "7   8  OLD  20192399          1917  38905780\n",
              "8   9  OLD  20167904          라라랜드  17286460\n",
              "9  10  OLD  20177478  어벤져스: 인피니티 워  20258880"
            ]
          },
          "metadata": {
            "tags": []
          },
          "execution_count": 22
        }
      ]
    },
    {
      "cell_type": "markdown",
      "metadata": {
        "id": "ryi29JTO9fVc"
      },
      "source": [
        "###5. 공공 데이터\n",
        "\n",
        "0. 공공 데이터 포털(https://www.data.go.kr) 접속\n",
        "1. 원하는 정보 검색 후 open api 정보 확인\n",
        "2. 참고문서에서 요청 url과 응답필드 확인"
      ]
    },
    {
      "cell_type": "code",
      "metadata": {
        "colab": {
          "base_uri": "https://localhost:8080/"
        },
        "id": "8gsdsM0X-S4v",
        "outputId": "e5674368-b9a5-4bd4-f9d1-3401b305b0c1"
      },
      "source": [
        "#판매처별 공적 마스크 판매처 정보\n",
        "\n",
        "import requests\n",
        "\n",
        "url2 = \"https://8oi9s0nnth.apigw.ntruss.com/corona19-masks/v1/sales/json?page=1&perPage=500\"\n",
        "res = requests.get(url2)\n",
        "text = res.text\n",
        "corona19_mask = json.loads(text)\n",
        "\n",
        "print(json.dumps(corona19_mask, indent=4, sort_keys=True))"
      ],
      "execution_count": 20,
      "outputs": [
        {
          "output_type": "stream",
          "text": [
            "{\n",
            "    \"error\": {\n",
            "        \"details\": \"URL not found.\",\n",
            "        \"errorCode\": \"300\",\n",
            "        \"message\": \"Not Found Exception\"\n",
            "    }\n",
            "}\n"
          ],
          "name": "stdout"
        }
      ]
    },
    {
      "cell_type": "code",
      "metadata": {
        "colab": {
          "base_uri": "https://localhost:8080/",
          "height": 239
        },
        "id": "UnRpIruk-3RJ",
        "outputId": "2625344f-fa4f-4d4b-cd35-707757070f7c"
      },
      "source": [
        "import pandas as pd\n",
        "\n",
        "corona19_mask_list = []\n",
        "for i in corona19_mask['sales'] :\n",
        "    corona19_mask_list.append([i['created_at'], i['code'], i['remain_stat']])\n",
        "\n",
        "corona19_mask_dataframe = pd.DataFrame(corona19_mask_list)"
      ],
      "execution_count": 21,
      "outputs": [
        {
          "output_type": "error",
          "ename": "KeyError",
          "evalue": "ignored",
          "traceback": [
            "\u001b[0;31m---------------------------------------------------------------------------\u001b[0m",
            "\u001b[0;31mKeyError\u001b[0m                                  Traceback (most recent call last)",
            "\u001b[0;32m<ipython-input-21-aa79b31f2565>\u001b[0m in \u001b[0;36m<module>\u001b[0;34m()\u001b[0m\n\u001b[1;32m      2\u001b[0m \u001b[0;34m\u001b[0m\u001b[0m\n\u001b[1;32m      3\u001b[0m \u001b[0mcorona19_mask_list\u001b[0m \u001b[0;34m=\u001b[0m \u001b[0;34m[\u001b[0m\u001b[0;34m]\u001b[0m\u001b[0;34m\u001b[0m\u001b[0;34m\u001b[0m\u001b[0m\n\u001b[0;32m----> 4\u001b[0;31m \u001b[0;32mfor\u001b[0m \u001b[0mi\u001b[0m \u001b[0;32min\u001b[0m \u001b[0mcorona19_mask\u001b[0m\u001b[0;34m[\u001b[0m\u001b[0;34m'sales'\u001b[0m\u001b[0;34m]\u001b[0m \u001b[0;34m:\u001b[0m\u001b[0;34m\u001b[0m\u001b[0;34m\u001b[0m\u001b[0m\n\u001b[0m\u001b[1;32m      5\u001b[0m     \u001b[0mcorona19_mask_list\u001b[0m\u001b[0;34m.\u001b[0m\u001b[0mappend\u001b[0m\u001b[0;34m(\u001b[0m\u001b[0;34m[\u001b[0m\u001b[0mi\u001b[0m\u001b[0;34m[\u001b[0m\u001b[0;34m'created_at'\u001b[0m\u001b[0;34m]\u001b[0m\u001b[0;34m,\u001b[0m \u001b[0mi\u001b[0m\u001b[0;34m[\u001b[0m\u001b[0;34m'code'\u001b[0m\u001b[0;34m]\u001b[0m\u001b[0;34m,\u001b[0m \u001b[0mi\u001b[0m\u001b[0;34m[\u001b[0m\u001b[0;34m'remain_stat'\u001b[0m\u001b[0;34m]\u001b[0m\u001b[0;34m]\u001b[0m\u001b[0;34m)\u001b[0m\u001b[0;34m\u001b[0m\u001b[0;34m\u001b[0m\u001b[0m\n\u001b[1;32m      6\u001b[0m \u001b[0;34m\u001b[0m\u001b[0m\n",
            "\u001b[0;31mKeyError\u001b[0m: 'sales'"
          ]
        }
      ]
    },
    {
      "cell_type": "code",
      "metadata": {
        "colab": {
          "base_uri": "https://localhost:8080/",
          "height": 169
        },
        "id": "PBqZOWoDBVWi",
        "outputId": "041ebff2-cbc7-45a9-8a1a-df756c2b6701"
      },
      "source": [
        "corona19_mask_dataframe.head(10)"
      ],
      "execution_count": 23,
      "outputs": [
        {
          "output_type": "error",
          "ename": "NameError",
          "evalue": "ignored",
          "traceback": [
            "\u001b[0;31m---------------------------------------------------------------------------\u001b[0m",
            "\u001b[0;31mNameError\u001b[0m                                 Traceback (most recent call last)",
            "\u001b[0;32m<ipython-input-23-7cd467c222e8>\u001b[0m in \u001b[0;36m<module>\u001b[0;34m()\u001b[0m\n\u001b[0;32m----> 1\u001b[0;31m \u001b[0mcorona19_mask_dataframe\u001b[0m\u001b[0;34m.\u001b[0m\u001b[0mhead\u001b[0m\u001b[0;34m(\u001b[0m\u001b[0;36m10\u001b[0m\u001b[0;34m)\u001b[0m\u001b[0;34m\u001b[0m\u001b[0;34m\u001b[0m\u001b[0m\n\u001b[0m",
            "\u001b[0;31mNameError\u001b[0m: name 'corona19_mask_dataframe' is not defined"
          ]
        }
      ]
    }
  ]
}