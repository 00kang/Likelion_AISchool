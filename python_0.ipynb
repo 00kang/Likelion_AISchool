{
  "nbformat": 4,
  "nbformat_minor": 0,
  "metadata": {
    "colab": {
      "name": "python_0.ipynb",
      "provenance": [],
      "collapsed_sections": [
        "vQLdhigSflsg",
        "wQwD243MgCMh",
        "n_Zqcl6Uhoiq",
        "c_GrGeJ7vxLM"
      ],
      "authorship_tag": "ABX9TyM8OJONW1mWOJtxzBExSB4s",
      "include_colab_link": true
    },
    "kernelspec": {
      "name": "python3",
      "display_name": "Python 3"
    },
    "language_info": {
      "name": "python"
    }
  },
  "cells": [
    {
      "cell_type": "markdown",
      "metadata": {
        "id": "view-in-github",
        "colab_type": "text"
      },
      "source": [
        "<a href=\"https://colab.research.google.com/github/00kang/Likelion_AISchool/blob/main/python_0.ipynb\" target=\"_parent\"><img src=\"https://colab.research.google.com/assets/colab-badge.svg\" alt=\"Open In Colab\"/></a>"
      ]
    },
    {
      "cell_type": "markdown",
      "metadata": {
        "id": "iC1kofrJgvPi"
      },
      "source": [
        "#마크다운 사용법 MarkDown Usage \n",
        "---"
      ]
    },
    {
      "cell_type": "markdown",
      "metadata": {
        "id": "ljgodh_vdS2e"
      },
      "source": [
        "###1. 헤더 Headers\n",
        "---------------\n",
        "*   큰 제목 : 문서 제목 -> ===로 구분하기\n",
        "*   작은 제목 : 문서 부제목 -> ---로 구분하기\n",
        "*   글머리 : 최대 6개까지만 지원 -> 글자 앞에 #개수 늘리며 붙이기"
      ]
    },
    {
      "cell_type": "markdown",
      "metadata": {
        "id": "CMcylxjvTCPV"
      },
      "source": [
        "< 예시 >\n",
        "\n",
        "    This is H1\n",
        "    ----------\n",
        "    This is H2\n",
        "    ==========\n",
        "\n",
        "    #This is H3_1\n",
        "    ##This is H3_2\n",
        "    ###This is H3_3\n",
        "\n",
        "This is H1\n",
        "----------\n",
        "This is H2\n",
        "==========\n",
        "\n",
        "#This is H3_1\n",
        "##This is H3_2\n",
        "###This is H3_3"
      ]
    },
    {
      "cell_type": "markdown",
      "metadata": {
        "id": "bdM5ucBmS7i1"
      },
      "source": [
        ""
      ]
    },
    {
      "cell_type": "markdown",
      "metadata": {
        "id": "vQLdhigSflsg"
      },
      "source": [
        "###2. 블럭 인용문자 BlockQuote \n",
        "---\n",
        "*   블럭 들여쓰기 -> >개수 늘리며 붙이기"
      ]
    },
    {
      "cell_type": "markdown",
      "metadata": {
        "id": "GiYSE3IdTJ-0"
      },
      "source": [
        "< 예시 >\n",
        "\n",
        "    > This is a first blockquote.\n",
        "    >    > This is second blockquote\n",
        "\n",
        "> This is a first blockquote.\n",
        ">    > This is second blockquote"
      ]
    },
    {
      "cell_type": "markdown",
      "metadata": {
        "id": "wQwD243MgCMh"
      },
      "source": [
        "###3. 목록 \n",
        "---\n",
        "*   순서있는 목록 -> 숫자. 으로 표시\n",
        "*   순서없는 목록 -> *, +, - 으로 표시"
      ]
    },
    {
      "cell_type": "markdown",
      "metadata": {
        "id": "xAFZ33zuTZ48"
      },
      "source": [
        "< 예시 >\n",
        "\n",
        "    1. 첫번째\n",
        "    2. 두번째\n",
        "    3. 세번째\n",
        "\n",
        "1. 첫번째\n",
        "2. 두번째\n",
        "3. 세번째"
      ]
    },
    {
      "cell_type": "markdown",
      "metadata": {
        "id": "40TML9fQTiCl"
      },
      "source": [
        "< 예시 >\n",
        "\n",
        "    * 1단계\n",
        "        + 2단계\n",
        "            - 3단계\n",
        "\n",
        "* 1단계\n",
        "    + 2단계\n",
        "        - 3단계"
      ]
    },
    {
      "cell_type": "markdown",
      "metadata": {
        "id": "n_Zqcl6Uhoiq"
      },
      "source": [
        "###4. 들여쓰기\n",
        "---\n",
        "*   들여쓰기를 적용 -> 줄마다 띄어쓰기"
      ]
    },
    {
      "cell_type": "markdown",
      "metadata": {
        "id": "TG3nAkcfTt4T"
      },
      "source": [
        "< 예시 >\n",
        "\n",
        "    a\n",
        "        b\n",
        "    c\n",
        "\n",
        "\n",
        "a\n",
        "\n",
        "    b\n",
        "\n",
        "c"
      ]
    },
    {
      "cell_type": "markdown",
      "metadata": {
        "id": "QTR_Xlgtu-Bf"
      },
      "source": [
        "###5. 코드블럭\n",
        "---\n",
        "*   방법1 -> <pre><code>{code}</code></pre>\n",
        "*   방법2 -> ''' code '''\n",
        "\n",
        "< 예시 >\n",
        "\n",
        "    <pre>\n",
        "    <code>\n",
        "    {code1}\n",
        "    </code>\n",
        "    </pre>\n",
        "\n",
        "<pre>\n",
        "<code>\n",
        "{code1}\n",
        "</code>\n",
        "</pre>"
      ]
    },
    {
      "cell_type": "markdown",
      "metadata": {
        "id": "c_GrGeJ7vxLM"
      },
      "source": [
        "###6. 수평선\n",
        "---\n",
        "*   페이지 나누기 용도 -> * * *, ***, *****, _ _ _, ______________"
      ]
    },
    {
      "cell_type": "markdown",
      "metadata": {
        "id": "uEb7gkCcT6u0"
      },
      "source": [
        "< 예시 >\n",
        "\n",
        "    * * *\n",
        "    ***\n",
        "    *****\n",
        "    _ _ _\n",
        "    ______________\n",
        "\n",
        "* * *\n",
        "***\n",
        "*****\n",
        "_ _ _\n",
        "______________"
      ]
    },
    {
      "cell_type": "markdown",
      "metadata": {
        "id": "xJulBVzQPd9T"
      },
      "source": [
        "###7. 링크\n",
        "---\n",
        "*   참조링크 -> [link keyword][id]\n",
        "*   외부링크 -> [Title](link]가 아)\n",
        "*   자동연결 -> <URL)가 아닌>"
      ]
    },
    {
      "cell_type": "markdown",
      "metadata": {
        "id": "7OULJBZvQ4g-"
      },
      "source": [
        "< 예시 >\n",
        "\n",
        "    Link : [Google][googlelink]\n",
        "    \n",
        "    [googlelink]: https://google.com \"Go google\"\n",
        "\n",
        "Link : [Google][googlelink]\n",
        "\n",
        "[googlelink]: https://google.com \"Go google\""
      ]
    },
    {
      "cell_type": "markdown",
      "metadata": {
        "id": "u_tGZqfHREZL"
      },
      "source": [
        "< 예시 >\n",
        "    \n",
        "    Link : [Google](https://google.com, \"google link\")\n",
        "\n",
        "Link : [Google](https://google.com, \"google link\")"
      ]
    },
    {
      "cell_type": "markdown",
      "metadata": {
        "id": "xOPEkjGcR63d"
      },
      "source": [
        "< 예시 >\n",
        "\n",
        "    Link : <https://example.com/>\n",
        "    E_Link : <address@example.com>\n",
        "\n",
        "Link : <https://example.com/> <br>\n",
        "E_Link : <address@example.com>"
      ]
    },
    {
      "cell_type": "markdown",
      "metadata": {
        "id": "XTbv-qpoT_ir"
      },
      "source": [
        "###7. 강조\n",
        "---\n",
        "*   이탤릭체 -> * *, _ _\n",
        "*   두껍게 -> ** **, __ __\n",
        "*   취소선 -> ~~ ~~"
      ]
    },
    {
      "cell_type": "markdown",
      "metadata": {
        "id": "NcjHrB0aVrxi"
      },
      "source": [
        "< 예시 >\n",
        "\n",
        "    *single asterisks*\n",
        "    _single underscores_\n",
        "    **double asterisks**\n",
        "    __double underscores__\n",
        "    ~~cancleline~~\n",
        "\n",
        "*single asterisks* <br>\n",
        "_single underscores_ <br>\n",
        "**double asterisks** <br>\n",
        "__double underscores__ <br>\n",
        "~~cancleline~~"
      ]
    },
    {
      "cell_type": "code",
      "metadata": {
        "id": "QBCViItuWDlk"
      },
      "source": [
        ""
      ],
      "execution_count": null,
      "outputs": []
    },
    {
      "cell_type": "markdown",
      "metadata": {
        "id": "sEwgZCCVWJDG"
      },
      "source": [
        "###8. 이미지\n",
        "---\n",
        "*    방법1 -> ![Alt text](/path/to/img.jpg>가 아닌 )\n",
        "*    방법2 -> ![Alt text](/path/to/img.jpg \"Optional title\" >가 아닌 ) <br><br>\n",
        "\n",
        "*    사이즈 조절 기능 -> <img width=\"\" height=\"\" )가 아닌></img )가 아>"
      ]
    },
    {
      "cell_type": "markdown",
      "metadata": {
        "id": "op6C_r5DXIEt"
      },
      "source": [
        "< 예시 >\n",
        "\n",
        "    <img src"
      ]
    },
    {
      "cell_type": "markdown",
      "metadata": {
        "id": "EDAilFCpaPe6"
      },
      "source": [
        "###9. 줄바꿈\n",
        "---\n",
        "*   문장 마지막에서 3칸 이상 띄어쓰기\n",
        "*   문장 마지막에 <br)가 아닌> 붙이기"
      ]
    },
    {
      "cell_type": "markdown",
      "metadata": {
        "id": "c8pY1RHDalTF"
      },
      "source": [
        "< 예시 >\n",
        "\n",
        "    line1\n",
        "    line2 \n",
        "\n",
        "line1 <br> line2"
      ]
    },
    {
      "cell_type": "code",
      "metadata": {
        "id": "QYd9Fj5Va8jS"
      },
      "source": [
        ""
      ],
      "execution_count": null,
      "outputs": []
    }
  ]
}