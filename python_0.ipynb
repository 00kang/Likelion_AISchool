{
  "nbformat": 4,
  "nbformat_minor": 0,
  "metadata": {
    "colab": {
      "name": "python_0.ipynb",
      "provenance": [],
      "collapsed_sections": [],
      "toc_visible": true,
      "authorship_tag": "ABX9TyN6z2nrGsM0CROQ3WfzF2We",
      "include_colab_link": true
    },
    "kernelspec": {
      "name": "python3",
      "display_name": "Python 3"
    },
    "language_info": {
      "name": "python"
    }
  },
  "cells": [
    {
      "cell_type": "markdown",
      "metadata": {
        "id": "view-in-github",
        "colab_type": "text"
      },
      "source": [
        "<a href=\"https://colab.research.google.com/github/00kang/Likelion_AISchool/blob/main/python_0.ipynb\" target=\"_parent\"><img src=\"https://colab.research.google.com/assets/colab-badge.svg\" alt=\"Open In Colab\"/></a>"
      ]
    },
    {
      "cell_type": "markdown",
      "metadata": {
        "id": "iC1kofrJgvPi"
      },
      "source": [
        "#마크다운 사용법 MarkDown Usage \n",
        "---"
      ]
    },
    {
      "cell_type": "markdown",
      "metadata": {
        "id": "ljgodh_vdS2e"
      },
      "source": [
        "###1. 헤더 Headers\n",
        "---------------\n",
        "*   큰 제목 : 문서 제목 -> ===로 구분하기\n",
        "*   작은 제목 : 문서 부제목 -> ---로 구분하기\n",
        "*   글머리 : 최대 6개까지만 지원 -> 글자 앞에 #개수 늘리며 붙이기\n",
        "\n",
        "\n",
        "< 예시 >\n",
        "\n",
        "    This is H1\n",
        "    ----------\n",
        "    This is H2\n",
        "    ==========\n",
        "\n",
        "    #This is H3_1\n",
        "    ##This is H3_2\n",
        "    ###This is H3_3\n",
        "\n",
        " This is H1\n",
        " ----------\n",
        "This is H2\n",
        "==========\n",
        "\n",
        "#This is H3_1\n",
        "##This is H3_2\n",
        "###This is H3_3"
      ]
    },
    {
      "cell_type": "markdown",
      "metadata": {
        "id": "vQLdhigSflsg"
      },
      "source": [
        "###2. 블럭 인용문자 BlockQuote \n",
        "---\n",
        "*   블럭 들여쓰기 -> >개수 늘리며 붙이기\n",
        "\n",
        "< 예시 >\n",
        "\n",
        "    > This is a first blockquote.\n",
        "    >    > This is second blockquote\n",
        "\n",
        "> This is a first blockquote.\n",
        ">    > This is second blockquote"
      ]
    },
    {
      "cell_type": "markdown",
      "metadata": {
        "id": "wQwD243MgCMh"
      },
      "source": [
        "###3. 목록 \n",
        "---\n",
        "*   순서있는 목록 -> 숫자. 으로 표시\n",
        "*   순서없는 목록 -> *, +, - 으로 표시\n",
        "\n",
        "< 예시 >\n",
        "\n",
        "    1. 첫번째\n",
        "    2. 두번째\n",
        "    3. 세번째\n",
        "\n",
        "1. 첫번째\n",
        "2. 두번째\n",
        "3. 세번째\n",
        "\n",
        "\n",
        "    * 1단계\n",
        "        + 2단계\n",
        "            - 3단계\n",
        "\n",
        "* 1단계\n",
        "    + 2단계\n",
        "        - 3단계"
      ]
    },
    {
      "cell_type": "markdown",
      "metadata": {
        "id": "n_Zqcl6Uhoiq"
      },
      "source": [
        "###4. 들여쓰기\n",
        "---\n",
        "*   들여쓰기를 적용 -> 줄마다 띄어쓰기\n",
        "\n",
        "< 예시 >\n",
        "\n",
        "    a\n",
        "\n",
        "        b\n",
        "        \n",
        "    c\n",
        "\n",
        "\n",
        "a\n",
        "\n",
        "    b\n",
        "\n",
        "c"
      ]
    },
    {
      "cell_type": "markdown",
      "metadata": {
        "id": "QTR_Xlgtu-Bf"
      },
      "source": [
        "###5. 코드블럭\n",
        "---\n",
        "*   방법1 -> <pre><code>{code}</code></pre>\n",
        "*   방법2 -> ''' code '''\n",
        "\n",
        "< 예시 >\n",
        "\n",
        "    <pre>\n",
        "    <code>\n",
        "    {code1}\n",
        "    </code>\n",
        "    </pre>\n",
        "\n",
        "<pre>\n",
        "<code>\n",
        "{code1}\n",
        "</code>\n",
        "</pre>"
      ]
    },
    {
      "cell_type": "code",
      "metadata": {
        "id": "c_GrGeJ7vxLM"
      },
      "source": [
        ""
      ],
      "execution_count": null,
      "outputs": []
    }
  ]
}