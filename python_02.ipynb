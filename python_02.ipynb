{
  "nbformat": 4,
  "nbformat_minor": 0,
  "metadata": {
    "colab": {
      "name": "python_02.ipynb",
      "provenance": [],
      "collapsed_sections": [],
      "authorship_tag": "ABX9TyO8Y2RbH+X+QQRy9K4i6uRx",
      "include_colab_link": true
    },
    "kernelspec": {
      "name": "python3",
      "display_name": "Python 3"
    },
    "language_info": {
      "name": "python"
    }
  },
  "cells": [
    {
      "cell_type": "markdown",
      "metadata": {
        "id": "view-in-github",
        "colab_type": "text"
      },
      "source": [
        "<a href=\"https://colab.research.google.com/github/00kang/Likelion_AISchool/blob/main/python_02.ipynb\" target=\"_parent\"><img src=\"https://colab.research.google.com/assets/colab-badge.svg\" alt=\"Open In Colab\"/></a>"
      ]
    },
    {
      "cell_type": "markdown",
      "metadata": {
        "id": "OFoXA5HDbU0E"
      },
      "source": [
        "Shift + Enter -> 코드 즉시 실행 후 자동으로 다음 코드 작성 대기   \n",
        "Ctrl + Enter -> 다음 코드란 생성 없이 코드만 실행   \n"
      ]
    },
    {
      "cell_type": "markdown",
      "metadata": {
        "id": "XDsBGIwgb2gz"
      },
      "source": [
        "###1. 사칙연산\n",
        "\n",
        "*   덧셈 : +\n",
        "*   뺄셈 : -\n",
        "*   곱셈 : *\n",
        "*   제곱 : **\n",
        "*   나눗셈의 몫을 소수점까지 반환 : /\n",
        "*   나눗셈의 몫을 정수로 반환 : //\n",
        "*   나눗셈의 나머지 : %"
      ]
    },
    {
      "cell_type": "markdown",
      "metadata": {
        "id": "EB3fG3fLcuKe"
      },
      "source": [
        "###2. 복소수\n",
        "*   허수 i 표현 -> j"
      ]
    },
    {
      "cell_type": "markdown",
      "metadata": {
        "id": "IaDsShC_c-Kz"
      },
      "source": [
        "###3. 데이터 타입\n",
        "\n",
        "*   정수(integer) : int\n",
        "*   소수 : float\n",
        "*   복소수 : complex\n",
        "*   문자열(string) : str\n",
        "\n",
        "\n",
        "\n",
        "*   type()함수로 데이터의 타입 확인"
      ]
    },
    {
      "cell_type": "markdown",
      "metadata": {
        "id": "JReTTE2ndvQb"
      },
      "source": [
        "###4. 변수\n",
        "*   변수 = 데이터\n",
        "\n",
        "*   변수 이름 주의사항<br>\n",
        "첫 문자 : 알파벳, 한글, 언더바(_)<br>\n",
        "예약어는 사용 불가 -> 예약어 모음 : help('keywords')"
      ]
    },
    {
      "cell_type": "markdown",
      "metadata": {
        "id": "wWEtp9f8ejV_"
      },
      "source": [
        "###5. 주석\n",
        "*   코드란에 주석 : #"
      ]
    },
    {
      "cell_type": "markdown",
      "metadata": {
        "id": "afCN1PSWeqyk"
      },
      "source": [
        "###6. 리스트\n",
        "*   변수 = [요소1, 요소2,...]\n",
        "*   다수의 값을 저장하고 있는 존재\n",
        "*   저장할 수 있는 데이터 타입과 깊이에 제약이 없음\n",
        "* 요소 언제든 수정 가능\n",
        "\n",
        "\n",
        "*   한 개의 요소 출력 : 변수[인덱스]<br>\n",
        "인덱스가 양수 -> 0부터 시작<br>인덱스가 음수 -> -1부터 시작 \n",
        "\n",
        "\n",
        "* 여러 개의 요소 출력 : 변수[인덱스1 : 인덱스2]<br> -> 인덱스1 이상 ~ 인덱스 2 미만의 값\n"
      ]
    },
    {
      "cell_type": "markdown",
      "metadata": {
        "id": "wKYVwYn6hS1x"
      },
      "source": [
        "###7. 튜플\n",
        "*   변수 = (요소1, 요소2, ...)\n",
        "*   요소에 대해 추가, 수정, 삭제 불가능"
      ]
    },
    {
      "cell_type": "markdown",
      "metadata": {
        "id": "jtClFE8Uh1qq"
      },
      "source": [
        "###8. 조건문\n",
        "*   if문 : 어떠한 조건일 때만 실행하고자 하는 경우\n",
        "*   else문 : 조건문의 조건이 맞지 않는 경우"
      ]
    },
    {
      "cell_type": "markdown",
      "metadata": {
        "id": "A35mJ1bbiNI_"
      },
      "source": [
        "###9. 반복문 _ for문\n",
        "* for문 : 조건에 포함되는 값 개수만큼 블록을 반복 실행\n",
        "* for i in range(시작 숫자, 끝 숫자, 숫자 간격) :<br>블록문 \n",
        "*   range() : 시작 숫자부터 끝 숫자 전까지 숫자 간격에 따른 연속 정수 값을 저장하는 함수\n",
        "*   시작 숫자 생략시 0, 숫자 간격 생략시 1   "
      ]
    },
    {
      "cell_type": "code",
      "metadata": {
        "colab": {
          "base_uri": "https://localhost:8080/"
        },
        "id": "0Tk9HFJ6kAEj",
        "outputId": "b71b9e91-a760-48cb-f069-cb06956b5e60"
      },
      "source": [
        "for i, e in enumerate([5,3,7]):\n",
        "    print(i, \":\", 3)\n",
        "\n",
        "#i는 인덱스, e는 리스트의 요소, 조건의 값 개수는 3개"
      ],
      "execution_count": 1,
      "outputs": [
        {
          "output_type": "stream",
          "text": [
            "0 : 3\n",
            "1 : 3\n",
            "2 : 3\n"
          ],
          "name": "stdout"
        }
      ]
    },
    {
      "cell_type": "markdown",
      "metadata": {
        "id": "KRt1u4rxj3QA"
      },
      "source": [
        "###10.반복문 _ while문\n",
        "*   while문 : 조건을 만족하지 않을 때까지 무한으로 반복 실행\n",
        "*   while i조건 : <br> 블록문\n"
      ]
    },
    {
      "cell_type": "code",
      "metadata": {
        "colab": {
          "base_uri": "https://localhost:8080/"
        },
        "id": "FbG7z250kyyZ",
        "outputId": "a46fe636-b0b8-4bef-cc32-a67106af9669"
      },
      "source": [
        "i=0\n",
        "while i<4:\n",
        "    print(i)\n",
        "    i+=1"
      ],
      "execution_count": 2,
      "outputs": [
        {
          "output_type": "stream",
          "text": [
            "0\n",
            "1\n",
            "2\n",
            "3\n"
          ],
          "name": "stdout"
        }
      ]
    },
    {
      "cell_type": "code",
      "metadata": {
        "id": "ZoWgcqGJlXlt"
      },
      "source": [
        ""
      ],
      "execution_count": null,
      "outputs": []
    }
  ]
}