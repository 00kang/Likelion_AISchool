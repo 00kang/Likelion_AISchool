{
  "nbformat": 4,
  "nbformat_minor": 0,
  "metadata": {
    "colab": {
      "name": "python_03.ipynb",
      "provenance": [],
      "collapsed_sections": [],
      "toc_visible": true,
      "authorship_tag": "ABX9TyOuWKxZnwzc6hcj1hPYScJz",
      "include_colab_link": true
    },
    "kernelspec": {
      "name": "python3",
      "display_name": "Python 3"
    },
    "language_info": {
      "name": "python"
    }
  },
  "cells": [
    {
      "cell_type": "markdown",
      "metadata": {
        "id": "view-in-github",
        "colab_type": "text"
      },
      "source": [
        "<a href=\"https://colab.research.google.com/github/00kang/Likelion_AISchool/blob/main/python_03.ipynb\" target=\"_parent\"><img src=\"https://colab.research.google.com/assets/colab-badge.svg\" alt=\"Open In Colab\"/></a>"
      ]
    },
    {
      "cell_type": "markdown",
      "metadata": {
        "id": "lSPneA1nl55e"
      },
      "source": [
        "변수와 자료형, 제어문과 반복 -> 코드 반복 작성해야 하는 비효율성   \n",
        "함수, 클래스 사용 시 -> 효율성 증가"
      ]
    },
    {
      "cell_type": "markdown",
      "metadata": {
        "id": "rHW0TgHQ9XFG"
      },
      "source": [
        "###1. 함수\n",
        "*   필요한 전달 값을 받아, 특정 작업을 수행한 후 결괏값을 반환하는 코드 블록\n",
        "* 장점 : 쉽게 사용 가능, 반복 사용 가능\n",
        "\n",
        "\n",
        "    def 함수명(전달값 변수명):\n",
        "        반환없는 출력 내용\n"
      ]
    },
    {
      "cell_type": "code",
      "metadata": {
        "colab": {
          "base_uri": "https://localhost:8080/"
        },
        "id": "tsVZPuie-YdY",
        "outputId": "6cecd834-d383-4e9f-c78c-71ca69ac4d30"
      },
      "source": [
        "def print_hello():\n",
        "    print('Hi, AI')\n",
        "    print('It\\'s me')\n",
        "\n",
        "print_hello()"
      ],
      "execution_count": 1,
      "outputs": [
        {
          "output_type": "stream",
          "text": [
            "Hi, AI\n",
            "It's me\n"
          ],
          "name": "stdout"
        }
      ]
    },
    {
      "cell_type": "markdown",
      "metadata": {
        "id": "YgxckfvC-ng0"
      },
      "source": [
        "\n",
        "    def 함수명(전달값 변수명):\n",
        "        return 반환값"
      ]
    },
    {
      "cell_type": "code",
      "metadata": {
        "colab": {
          "base_uri": "https://localhost:8080/"
        },
        "id": "oGsQHLAh-3EJ",
        "outputId": "30d493ce-abf1-41bb-9944-d4a6c268fcbb"
      },
      "source": [
        "def my_sum(a, b):\n",
        "    res = a + b\n",
        "    return res\n",
        "\n",
        "res = my_sum(10, 15)\n",
        "print(res)"
      ],
      "execution_count": 2,
      "outputs": [
        {
          "output_type": "stream",
          "text": [
            "25\n"
          ],
          "name": "stdout"
        }
      ]
    },
    {
      "cell_type": "code",
      "metadata": {
        "colab": {
          "base_uri": "https://localhost:8080/"
        },
        "id": "miinkAXK--YI",
        "outputId": "042293e6-407b-4d06-e5c6-0dd64821f52e"
      },
      "source": [
        "# 내장함수 len() : 변수가 가진 값의 길이를 반환\n",
        "a = [1, 3, 5, 6, 10]\n",
        "len(a)"
      ],
      "execution_count": 4,
      "outputs": [
        {
          "output_type": "execute_result",
          "data": {
            "text/plain": [
              "5"
            ]
          },
          "metadata": {
            "tags": []
          },
          "execution_count": 4
        }
      ]
    },
    {
      "cell_type": "code",
      "metadata": {
        "colab": {
          "base_uri": "https://localhost:8080/"
        },
        "id": "rgdXILLq_PMb",
        "outputId": "29d0fe28-f3bb-4ade-8426-66c9739512a2"
      },
      "source": [
        "# 내장함수 input() : 사용자로부터 문자열을 입력받고 그를 화면으로 출력\n",
        "a = input(\"your input:\")"
      ],
      "execution_count": 5,
      "outputs": [
        {
          "output_type": "stream",
          "text": [
            "your input:dd\n"
          ],
          "name": "stdout"
        }
      ]
    },
    {
      "cell_type": "code",
      "metadata": {
        "colab": {
          "base_uri": "https://localhost:8080/"
        },
        "id": "3HlGVak9_lH-",
        "outputId": "674f10c8-d664-4afc-d8ad-c9bb93921a28"
      },
      "source": [
        "# 내장함수 range() : 범위 지정\n",
        "range(0, 3, 1)"
      ],
      "execution_count": 6,
      "outputs": [
        {
          "output_type": "execute_result",
          "data": {
            "text/plain": [
              "range(0, 3)"
            ]
          },
          "metadata": {
            "tags": []
          },
          "execution_count": 6
        }
      ]
    },
    {
      "cell_type": "markdown",
      "metadata": {
        "id": "d21uvgwn_xVy"
      },
      "source": [
        "###2. 클래스\n",
        "*   코드의 반복을 줄이기 위해 사용\n",
        "*   개발자가 코드를 잘 이해하기 위해 사용됨"
      ]
    },
    {
      "cell_type": "markdown",
      "metadata": {
        "id": "stFrxgGyAF1K"
      },
      "source": [
        "\n",
        "    class 클래스명 : \n",
        "        변수명1 = 값1\n",
        "        변수명2 = 값2\n",
        "\n",
        "        def 함수명(self, 전달값 변수명, ...):\n",
        "            코드1\n",
        "            코드2\n",
        "\n",
        "\n",
        "*   self는 실제 전달 값이 아닌 파이썬 내부에서 사용되는 약속된 값"
      ]
    },
    {
      "cell_type": "code",
      "metadata": {
        "colab": {
          "base_uri": "https://localhost:8080/"
        },
        "id": "Wh95k90PAk94",
        "outputId": "23002a87-8773-473f-b872-47f638ba224d"
      },
      "source": [
        "# 예시\n",
        "\n",
        "class Email : #sender변수와 send_mail함수를 가지고 있는 Email 클래스\n",
        "    sender = \" \"\n",
        "\n",
        "    #self를 제외한 전달값 3개를 입력받는 함수\n",
        "    def send_mail(self, recv, subject, contents):\n",
        "        print(\"From:\\t\" + self.sender) #sender는 함수내에서 만들어진 게 아니라 \n",
        "                                       #클래스에서 만들어진 변수이기 때문에 self를 붙임\n",
        "        print(\"To:\\t\" + recv)\n",
        "        print(\"Subject:\" + subject)\n",
        "        print(\"Contents\")\n",
        "        print(contents)\n",
        "        print(\"-\" * 40)\n",
        "\n",
        "\n",
        "e = Email() #Email 클래스 자료형 변수\n",
        "            #클래스 변수는 클래스에 속한 변수와 함수 모두 사용 가능\n",
        "e.sender = \"airim@naver.com\" #클래스에 속한 변수와 함수에 접근 할 때 .을 이용\n",
        "recv_list = [\"gwangjuai_1@likelion.net\", \"gwangjuai_2@likelion.net\"]\n",
        "\n",
        "for recv in recv_list: \n",
        "    e.send_mail(recv, \"광주 인공지능 사관학교에 오신 것을 환영합니다.\", \n",
        "                 \"이번 온라인 강의는 함수와 클래스 입니다.\")"
      ],
      "execution_count": 9,
      "outputs": [
        {
          "output_type": "stream",
          "text": [
            "From:\tairim@naver.com\n",
            "To:\tgwangjuai_1@likelion.net\n",
            "Subject:광주 인공지능 사관학교에 오신 것을 환영합니다.\n",
            "Contents\n",
            "이번 온라인 강의는 함수와 클래스 입니다.\n",
            "----------------------------------------\n",
            "From:\tairim@naver.com\n",
            "To:\tgwangjuai_2@likelion.net\n",
            "Subject:광주 인공지능 사관학교에 오신 것을 환영합니다.\n",
            "Contents\n",
            "이번 온라인 강의는 함수와 클래스 입니다.\n",
            "----------------------------------------\n"
          ],
          "name": "stdout"
        }
      ]
    },
    {
      "cell_type": "markdown",
      "metadata": {
        "id": "jGEPIumxAURa"
      },
      "source": [
        "###3. 클래스 활용\n",
        "*   다른 파일에 있는 클래스를 사용하는 방법\n",
        "\n",
        "    \n",
        "    from 파일명 import 클래스명"
      ]
    },
    {
      "cell_type": "code",
      "metadata": {
        "id": "-S09--h6Dm3V"
      },
      "source": [
        "# 파이썬 파일을 불러오면 코렙이 실행되는 동안만 존재하기에\n",
        "# 코렙을 다시 실행하면 다시 불러와야 함\n",
        "from python_03 import Email"
      ],
      "execution_count": 13,
      "outputs": []
    },
    {
      "cell_type": "code",
      "metadata": {
        "colab": {
          "base_uri": "https://localhost:8080/"
        },
        "id": "6fB5t7M1DiUt",
        "outputId": "633f4133-d1ff-48d7-c88d-deaf5f4f91a1"
      },
      "source": [
        "e = Email()\n",
        "e.sender = \"airim@naver.com\"\n",
        "recv_list = [\"gwangjuai_1@likelion.net\", \"gwangjuai_2@likelion.net\"]\n",
        "\n",
        "for recv in recv_list: \n",
        "    e.send_mail(recv, \"광주 인공지능 사관학교에 오신 것을 환영합니다.\", \n",
        "                 \"이번 온라인 강의는 함수와 클래스 입니다.\")"
      ],
      "execution_count": 12,
      "outputs": [
        {
          "output_type": "stream",
          "text": [
            "From:\tairim@naver.com\n",
            "To:\tgwangjuai_1@likelion.net\n",
            "Subject:광주 인공지능 사관학교에 오신 것을 환영합니다.\n",
            "Contents\n",
            "이번 온라인 강의는 함수와 클래스 입니다.\n",
            "--------------------\n",
            "From:\tairim@naver.com\n",
            "To:\tgwangjuai_2@likelion.net\n",
            "Subject:광주 인공지능 사관학교에 오신 것을 환영합니다.\n",
            "Contents\n",
            "이번 온라인 강의는 함수와 클래스 입니다.\n",
            "--------------------\n"
          ],
          "name": "stdout"
        }
      ]
    },
    {
      "cell_type": "markdown",
      "metadata": {
        "id": "Pe-FidndENMS"
      },
      "source": [
        "*   코드를 다른 파일에 나눠 관리함으로써 코드 관리가 쉬워 생상성 향상"
      ]
    }
  ]
}